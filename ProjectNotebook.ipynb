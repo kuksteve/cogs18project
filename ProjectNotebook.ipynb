{
 "cells": [
  {
   "cell_type": "markdown",
   "metadata": {},
   "source": [
    "# Project Description"
   ]
  },
  {
   "cell_type": "markdown",
   "metadata": {},
   "source": [
    "This program contains a game of rock, paper, scissors and interesting facts about dolphins!\n",
    "\n",
    "The program takes the user input and matches the input against a robot that chooses randomly from a list."
   ]
  },
  {
   "cell_type": "markdown",
   "metadata": {},
   "source": [
    "# Project Code"
   ]
  },
  {
   "cell_type": "code",
   "execution_count": 2,
   "metadata": {},
   "outputs": [
    {
     "name": "stdout",
     "output_type": "stream",
     "text": [
      "This program contains a game of Rock, Paper, Scissors! \n",
      "1 to Continue! \n",
      "2 for a random dolphin fact! \n",
      "3 to Exit! \n",
      "3\n",
      "Have a nice day!\n"
     ]
    }
   ],
   "source": [
    "#Imports all the needed code to run the program\n",
    "from my_module.functions import rps, win_or_lose, dolphin_facts, start_game\n",
    "\n",
    "#This line starts the program\n",
    "start_game()"
   ]
  },
  {
   "cell_type": "code",
   "execution_count": 3,
   "metadata": {},
   "outputs": [
    {
     "name": "stdout",
     "output_type": "stream",
     "text": [
      "This program contains a game of Rock, Paper, Scissors! \n",
      "1 to Continue! \n",
      "2 for a random dolphin fact! \n",
      "3 to Exit! \n",
      "1\n",
      "\n",
      "1 for Rock! \n",
      "2 for Paper! \n",
      "3 for Scissors! \n",
      "4 to Quit! \n",
      "2\n",
      "\n",
      "You played Paper!\n",
      "I played Paper!\n",
      "Paper and Paper! A draw!\n",
      "Your total points is: 0\n",
      "\n",
      "1 for Rock! \n",
      "2 for Paper! \n",
      "3 for Scissors! \n",
      "4 to Quit! \n",
      "3\n",
      "\n",
      "You played Scissors!\n",
      "I played Rock!\n",
      "Rock beats Scissors! You lose!\n",
      "Your total points is: 0\n",
      "\n",
      "1 for Rock! \n",
      "2 for Paper! \n",
      "3 for Scissors! \n",
      "4 to Quit! \n",
      "2\n",
      "\n",
      "You played Paper!\n",
      "I played Rock!\n",
      "Paper beats Rock! You win!\n",
      "Your total points is: 1\n",
      "\n",
      "1 for Rock! \n",
      "2 for Paper! \n",
      "3 for Scissors! \n",
      "4 to Quit! \n",
      "1\n",
      "\n",
      "You played Rock!\n",
      "I played Paper!\n",
      "Paper beats Rock! You lose!\n",
      "Your total points is: 1\n",
      "\n",
      "1 for Rock! \n",
      "2 for Paper! \n",
      "3 for Scissors! \n",
      "4 to Quit! \n",
      "2\n",
      "\n",
      "You played Paper!\n",
      "I played Paper!\n",
      "Paper and Paper! A draw!\n",
      "Your total points is: 1\n",
      "\n",
      "1 for Rock! \n",
      "2 for Paper! \n",
      "3 for Scissors! \n",
      "4 to Quit! \n",
      "4\n",
      "\n",
      "Have a nice day!\n"
     ]
    }
   ],
   "source": [
    "#Test the program!\n",
    "start_game()"
   ]
  }
 ],
 "metadata": {
  "kernelspec": {
   "display_name": "Python 3",
   "language": "python",
   "name": "python3"
  },
  "language_info": {
   "codemirror_mode": {
    "name": "ipython",
    "version": 3
   },
   "file_extension": ".py",
   "mimetype": "text/x-python",
   "name": "python",
   "nbconvert_exporter": "python",
   "pygments_lexer": "ipython3",
   "version": "3.6.7"
  }
 },
 "nbformat": 4,
 "nbformat_minor": 2
}
